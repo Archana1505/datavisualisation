{
  "nbformat": 4,
  "nbformat_minor": 0,
  "metadata": {
    "colab": {
      "provenance": [],
      "authorship_tag": "ABX9TyM3xil8nzkhQqt/L5gCzoXx",
      "include_colab_link": true
    },
    "kernelspec": {
      "name": "python3",
      "display_name": "Python 3"
    },
    "language_info": {
      "name": "python"
    }
  },
  "cells": [
    {
      "cell_type": "markdown",
      "metadata": {
        "id": "view-in-github",
        "colab_type": "text"
      },
      "source": [
        "<a href=\"https://colab.research.google.com/github/Archana1505/datavisualisation/blob/main/internshala.ipynb\" target=\"_parent\"><img src=\"https://colab.research.google.com/assets/colab-badge.svg\" alt=\"Open In Colab\"/></a>"
      ]
    },
    {
      "cell_type": "code",
      "execution_count": 1,
      "metadata": {
        "id": "PVonqEbSm5mw"
      },
      "outputs": [],
      "source": [
        "import pandas as pd\n",
        "import requests\n",
        "from bs4 import BeautifulSoup\n"
      ]
    },
    {
      "cell_type": "code",
      "source": [
        "url=\"https://internshala.com/internships/work-from-home-internships/\"\n",
        "r=requests.get(url)\n",
        "soup=BeautifulSoup(r.content,\"html.parser\")\n",
        "print(soup.title)\n",
        "\n"
      ],
      "metadata": {
        "id": "cK3SxFjVRAZo",
        "colab": {
          "base_uri": "https://localhost:8080/"
        },
        "outputId": "3f0f88c9-b615-4cdd-9705-9b5fd5735a05"
      },
      "execution_count": 2,
      "outputs": [
        {
          "output_type": "stream",
          "name": "stdout",
          "text": [
            "<title>Work From Home Internships: Explore 2686 Remote Internships for Students</title>\n"
          ]
        }
      ]
    },
    {
      "cell_type": "code",
      "source": [
        "from types import resolve_bases\n",
        "role=[]\n",
        "h=soup.find_all(\"h3\",class_=\"heading_4_5 profile\")\n",
        "for i in h:\n",
        "      for n in i.find_all(\"a\",class_=\"view_detail_button\"):\n",
        "             role.append(n.get_text())\n",
        "print(role)\n",
        "print(len(role))"
      ],
      "metadata": {
        "colab": {
          "base_uri": "https://localhost:8080/"
        },
        "id": "10xwnjxa5qZ5",
        "outputId": "ce5b8979-7113-4dc2-e7bb-be5a0b66ee1d"
      },
      "execution_count": 27,
      "outputs": [
        {
          "output_type": "stream",
          "name": "stdout",
          "text": [
            "['Fundraising', 'Social Entrepreneurship', 'Stock Market Management', 'Full Stack Development (Mern Stack)', 'Chemistry Teaching', 'Graphic Design', 'Mathematics Teaching', 'Illustration', 'Audio Recording (Bengali)', 'Sports', 'Search Engine Optimization (SEO)', 'Motion Graphics', 'Digital Marketing', 'Digital Marketing', 'Creative Design', 'Video Editing/Making', 'Acting', 'Social Work', 'Cinematics (Unreal Engine)', 'Interior Design', 'Data Transcription (Malayalam)', 'Interior Design', 'Fundraising', 'Social Work', 'Fundraising', 'Video Editing/Making', 'Video Editing/Making', 'Business Development (Sales)', 'Flutter Development', 'Lead Generation', 'Digital Marketing', 'Search Engine Optimization (SEO)', 'Search Engine Optimization (SEO)', 'Subject Matter Expert (SME) - Statistics & Calculus', 'Physics Subject Matter Expert', 'UI/UX Design', 'Process Applications Server', 'Search Engine Optimization (SEO)', 'Sales', 'Subject Matter Expert (Nursing)', 'Inside Sales', '2D Animation and Motion Graphics', '2D Animation']\n",
            "43\n"
          ]
        }
      ]
    },
    {
      "cell_type": "code",
      "source": [
        "company_name=[]\n",
        "d=soup.find_all(\"div\",class_=\"company_and_premium\")\n",
        "for a in d:\n",
        "  for b in a.find_all(\"a\",class_=\"link_display_like_text view_detail_button\"):\n",
        "      s=b.get_text()\n",
        "      company_name.append(s.strip())\n",
        "print(company_name)\n",
        "print(len(company_name))"
      ],
      "metadata": {
        "colab": {
          "base_uri": "https://localhost:8080/"
        },
        "id": "qfITDzcJ7Ujn",
        "outputId": "06a26507-7da8-4315-8094-803ad8d71c80"
      },
      "execution_count": 28,
      "outputs": [
        {
          "output_type": "stream",
          "name": "stdout",
          "text": [
            "['Tare Zameen Foundation', 'Hamari Pahchan NGO', 'Growthclues', 'FlexiEle Consulting Services Private Limited', 'Budding Mariners', \"La'Grace (Sydney, Australia)\", 'Budding Mariners', 'Endeavor Academy', 'Indika AI Private Limited', 'Infinity Magazine', 'Skillkul', 'Celebrare', 'Scoutbizz International', 'SwasthAham', 'Celebrare', 'Aadi Foundation', 'AnsrOne', 'Entirety Foundation', 'IDZ Digital Private Limited', 'SStruence Innovations Pvt. Ltd.', 'Indika AI Private Limited', 'Antarmana Design Studio', 'InAmigos Foundation', 'Entirety Foundation', 'Help And Hygiene For All Foundation', 'LivePro Wellness Private Limited', 'Baweja Media', 'Altamount International', 'Celebrare', 'Indika AI Private Limited', 'EG Allied Private Limited', 'Gharpayy', 'Medico Marketer', 'TVM E-Learning', 'TVM E-Learning', 'Aadi Foundation', 'Expertel SA - Proceedit (Barcelona, España)', 'Breakout', 'Gharpayy', 'Innovalance Learning Systems', 'Dyulabs Private Limited', 'Intesome', 'Intesome']\n",
            "43\n"
          ]
        }
      ]
    },
    {
      "cell_type": "code",
      "source": [
        "stipend=[]\n",
        "q=soup.find_all(\"div\",class_=\"item_body\")\n",
        "for e in q:\n",
        "  for f in e.find_all(\"span\",class_=\"stipend\"):\n",
        "    stipend.append(f.get_text())\n",
        "print(stipend)\n",
        "print(len(stipend))"
      ],
      "metadata": {
        "colab": {
          "base_uri": "https://localhost:8080/"
        },
        "id": "kj1ScKJJF3tH",
        "outputId": "039ab9af-dcf0-4b0a-abb0-3cf0a12c8630"
      },
      "execution_count": 30,
      "outputs": [
        {
          "output_type": "stream",
          "name": "stdout",
          "text": [
            "['₹ 1,000 /month +  Incentives', '10% of Revenue Generated', '₹ 1,000-4,000 /month', '₹ 15,000 /month', '₹ 5,000 /month', '₹ 5,000 /month', '₹ 6,000 /month', '₹ 5,000 /month +  Incentives', '₹ 6,000 /month', '₹ 5,000 /month', '₹ 3,000 /month', '₹ 10,000-15,000 /month', '₹ 6,000-8,000 /month', '₹ 2,000 /month', '₹ 10,000-14,000 /month', 'Unpaid', '₹ 1,000-3,000 /month', 'Unpaid', '₹ 8,000 /month', '₹ 1,000 /month', '₹ 6,000 /month', '₹ 5,000 /month', 'Unpaid', 'Unpaid', 'Unpaid', '₹ 5,000 /month', '₹ 5,000-6,000 /month', '₹ 1,000 /month +  Incentives', '₹ 6,000-12,000 /month', '₹ 5,000 /month', '₹ 2,000 /month', '₹ 3,000 /month', '₹ 3,000-5,000 /month', '₹ 12,000-16,000 /month', '₹ 14,000-18,000 /month', 'Unpaid', '₹ 1,000 /month', '₹ 4,000-5,000 /month', '₹ 2,000-40,000 lump sum', '₹ 15,000 /month', '₹ 5,000-10,000 /month', '₹ 10,000 /month', '₹ 10,000 /month']\n",
            "43\n"
          ]
        }
      ]
    },
    {
      "cell_type": "code",
      "source": [
        "location=[]\n",
        "k=soup.find_all(\"a\",class_=\"location_link view_detail_button\")\n",
        "for j in k:\n",
        "  location.append(j.get_text())\n",
        "print(location)\n",
        "print(len(location))"
      ],
      "metadata": {
        "colab": {
          "base_uri": "https://localhost:8080/"
        },
        "id": "jwX71v1SE-RH",
        "outputId": "674e1cf7-24e3-44ad-a225-2e05049f4a36"
      },
      "execution_count": 31,
      "outputs": [
        {
          "output_type": "stream",
          "name": "stdout",
          "text": [
            "['Work From Home', 'Work From Home', 'Work From Home', 'Work From Home', 'Work From Home', 'Work From Home', 'Work From Home', 'Work From Home', 'Work From Home', 'Work From Home', 'Work From Home', 'Work From Home', 'Work From Home', 'Work From Home', 'Work From Home', 'Work From Home', 'Work From Home', 'Work From Home', 'Work From Home', 'Work From Home', 'Work From Home', 'Work From Home', 'Work From Home', 'Work From Home', 'Work From Home', 'Work From Home', 'Work From Home', 'Work From Home', 'Work From Home', 'Work From Home', 'Work From Home', 'Work From Home', 'Work From Home', 'Work From Home', 'Work From Home', 'Work From Home', 'Work From Home', 'Work From Home', 'Work From Home', 'Work From Home', 'Work From Home', 'Work From Home', 'Work From Home']\n",
            "43\n"
          ]
        }
      ]
    },
    {
      "cell_type": "code",
      "source": [
        "dic={\"ROLE\":role,\"COMPANY_NAME\":company_name,\"STIPEND\":stipend,\"LOCATION\":location}\n",
        "df=pd.DataFrame(dic)\n",
        "print(df)"
      ],
      "metadata": {
        "colab": {
          "base_uri": "https://localhost:8080/"
        },
        "id": "xM_8a_8LGrFf",
        "outputId": "e189aebe-1d96-446b-aadc-09f351f35437"
      },
      "execution_count": 32,
      "outputs": [
        {
          "output_type": "stream",
          "name": "stdout",
          "text": [
            "                                                 ROLE  \\\n",
            "0                                         Fundraising   \n",
            "1                             Social Entrepreneurship   \n",
            "2                             Stock Market Management   \n",
            "3                 Full Stack Development (Mern Stack)   \n",
            "4                                  Chemistry Teaching   \n",
            "5                                      Graphic Design   \n",
            "6                                Mathematics Teaching   \n",
            "7                                        Illustration   \n",
            "8                           Audio Recording (Bengali)   \n",
            "9                                              Sports   \n",
            "10                   Search Engine Optimization (SEO)   \n",
            "11                                    Motion Graphics   \n",
            "12                                  Digital Marketing   \n",
            "13                                  Digital Marketing   \n",
            "14                                    Creative Design   \n",
            "15                               Video Editing/Making   \n",
            "16                                             Acting   \n",
            "17                                        Social Work   \n",
            "18                         Cinematics (Unreal Engine)   \n",
            "19                                    Interior Design   \n",
            "20                     Data Transcription (Malayalam)   \n",
            "21                                    Interior Design   \n",
            "22                                        Fundraising   \n",
            "23                                        Social Work   \n",
            "24                                        Fundraising   \n",
            "25                               Video Editing/Making   \n",
            "26                               Video Editing/Making   \n",
            "27                       Business Development (Sales)   \n",
            "28                                Flutter Development   \n",
            "29                                    Lead Generation   \n",
            "30                                  Digital Marketing   \n",
            "31                   Search Engine Optimization (SEO)   \n",
            "32                   Search Engine Optimization (SEO)   \n",
            "33  Subject Matter Expert (SME) - Statistics & Cal...   \n",
            "34                      Physics Subject Matter Expert   \n",
            "35                                       UI/UX Design   \n",
            "36                        Process Applications Server   \n",
            "37                   Search Engine Optimization (SEO)   \n",
            "38                                              Sales   \n",
            "39                    Subject Matter Expert (Nursing)   \n",
            "40                                       Inside Sales   \n",
            "41                   2D Animation and Motion Graphics   \n",
            "42                                       2D Animation   \n",
            "\n",
            "                                    COMPANY_NAME  \\\n",
            "0                         Tare Zameen Foundation   \n",
            "1                             Hamari Pahchan NGO   \n",
            "2                                    Growthclues   \n",
            "3   FlexiEle Consulting Services Private Limited   \n",
            "4                               Budding Mariners   \n",
            "5                   La'Grace (Sydney, Australia)   \n",
            "6                               Budding Mariners   \n",
            "7                               Endeavor Academy   \n",
            "8                      Indika AI Private Limited   \n",
            "9                              Infinity Magazine   \n",
            "10                                      Skillkul   \n",
            "11                                     Celebrare   \n",
            "12                       Scoutbizz International   \n",
            "13                                    SwasthAham   \n",
            "14                                     Celebrare   \n",
            "15                               Aadi Foundation   \n",
            "16                                       AnsrOne   \n",
            "17                           Entirety Foundation   \n",
            "18                   IDZ Digital Private Limited   \n",
            "19               SStruence Innovations Pvt. Ltd.   \n",
            "20                     Indika AI Private Limited   \n",
            "21                       Antarmana Design Studio   \n",
            "22                           InAmigos Foundation   \n",
            "23                           Entirety Foundation   \n",
            "24           Help And Hygiene For All Foundation   \n",
            "25              LivePro Wellness Private Limited   \n",
            "26                                  Baweja Media   \n",
            "27                       Altamount International   \n",
            "28                                     Celebrare   \n",
            "29                     Indika AI Private Limited   \n",
            "30                     EG Allied Private Limited   \n",
            "31                                      Gharpayy   \n",
            "32                               Medico Marketer   \n",
            "33                                TVM E-Learning   \n",
            "34                                TVM E-Learning   \n",
            "35                               Aadi Foundation   \n",
            "36   Expertel SA - Proceedit (Barcelona, España)   \n",
            "37                                      Breakout   \n",
            "38                                      Gharpayy   \n",
            "39                  Innovalance Learning Systems   \n",
            "40                       Dyulabs Private Limited   \n",
            "41                                      Intesome   \n",
            "42                                      Intesome   \n",
            "\n",
            "                         STIPEND        LOCATION  \n",
            "0   ₹ 1,000 /month +  Incentives  Work From Home  \n",
            "1       10% of Revenue Generated  Work From Home  \n",
            "2           ₹ 1,000-4,000 /month  Work From Home  \n",
            "3                ₹ 15,000 /month  Work From Home  \n",
            "4                 ₹ 5,000 /month  Work From Home  \n",
            "5                 ₹ 5,000 /month  Work From Home  \n",
            "6                 ₹ 6,000 /month  Work From Home  \n",
            "7   ₹ 5,000 /month +  Incentives  Work From Home  \n",
            "8                 ₹ 6,000 /month  Work From Home  \n",
            "9                 ₹ 5,000 /month  Work From Home  \n",
            "10                ₹ 3,000 /month  Work From Home  \n",
            "11        ₹ 10,000-15,000 /month  Work From Home  \n",
            "12          ₹ 6,000-8,000 /month  Work From Home  \n",
            "13                ₹ 2,000 /month  Work From Home  \n",
            "14        ₹ 10,000-14,000 /month  Work From Home  \n",
            "15                        Unpaid  Work From Home  \n",
            "16          ₹ 1,000-3,000 /month  Work From Home  \n",
            "17                        Unpaid  Work From Home  \n",
            "18                ₹ 8,000 /month  Work From Home  \n",
            "19                ₹ 1,000 /month  Work From Home  \n",
            "20                ₹ 6,000 /month  Work From Home  \n",
            "21                ₹ 5,000 /month  Work From Home  \n",
            "22                        Unpaid  Work From Home  \n",
            "23                        Unpaid  Work From Home  \n",
            "24                        Unpaid  Work From Home  \n",
            "25                ₹ 5,000 /month  Work From Home  \n",
            "26          ₹ 5,000-6,000 /month  Work From Home  \n",
            "27  ₹ 1,000 /month +  Incentives  Work From Home  \n",
            "28         ₹ 6,000-12,000 /month  Work From Home  \n",
            "29                ₹ 5,000 /month  Work From Home  \n",
            "30                ₹ 2,000 /month  Work From Home  \n",
            "31                ₹ 3,000 /month  Work From Home  \n",
            "32          ₹ 3,000-5,000 /month  Work From Home  \n",
            "33        ₹ 12,000-16,000 /month  Work From Home  \n",
            "34        ₹ 14,000-18,000 /month  Work From Home  \n",
            "35                        Unpaid  Work From Home  \n",
            "36                ₹ 1,000 /month  Work From Home  \n",
            "37          ₹ 4,000-5,000 /month  Work From Home  \n",
            "38       ₹ 2,000-40,000 lump sum  Work From Home  \n",
            "39               ₹ 15,000 /month  Work From Home  \n",
            "40         ₹ 5,000-10,000 /month  Work From Home  \n",
            "41               ₹ 10,000 /month  Work From Home  \n",
            "42               ₹ 10,000 /month  Work From Home  \n"
          ]
        }
      ]
    }
  ]
}